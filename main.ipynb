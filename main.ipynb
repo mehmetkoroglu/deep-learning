{
  "nbformat": 4,
  "nbformat_minor": 0,
  "metadata": {
    "colab": {
      "name": "main.ipynb",
      "provenance": [],
      "collapsed_sections": []
    },
    "kernelspec": {
      "name": "python3",
      "display_name": "Python 3"
    },
    "language_info": {
      "name": "python"
    },
    "accelerator": "GPU"
  },
  "cells": [
    {
      "cell_type": "code",
      "execution_count": 1,
      "metadata": {
        "colab": {
          "base_uri": "https://localhost:8080/"
        },
        "id": "7iDIJ70DaK9h",
        "outputId": "fd90b9d3-fc24-4973-e043-8826c7983c1b"
      },
      "outputs": [
        {
          "output_type": "stream",
          "name": "stdout",
          "text": [
            "Mounted at /content/drive\n"
          ]
        }
      ],
      "source": [
        "from google.colab import drive\n",
        "drive.mount(\"/content/drive\")"
      ]
    },
    {
      "cell_type": "code",
      "source": [
        "from tensorflow import keras\n",
        "from tensorflow.keras import layers \n",
        "\n",
        "inputs = keras.Input(shape=(180, 180, 3)) #input 180x180 boyutunda rgb şekilde alıyoruz\n",
        "x = layers.Rescaling(1./255)(inputs)  # renk aralığını 0 ile 1 arasına çekiyoruz\n",
        "# Gelen görüntünün boyutu kadar pixellerin değeri matrise yazılır\n",
        "x = layers.Conv2D(filters=32, kernel_size=(3, 3), activation=\"relu\")(x)\n",
        "x = layers.Conv2D(filters=32, kernel_size=(3, 3), activation=\"relu\")(x)\n",
        "x = layers.MaxPooling2D(pool_size=2)(x) # filtre boyutu kadar görüntünün her bir\n",
        "# pixelini poolingin boyutu kadar işledik\n",
        "\n",
        "x = layers.Conv2D(filters=64, kernel_size=3, activation=\"relu\")(x)\n",
        "x = layers.Conv2D(filters=64, kernel_size=3, activation=\"relu\")(x)\n",
        "x = layers.MaxPooling2D(pool_size=2)(x)\n",
        "\n",
        "x = layers.Conv2D(filters=128, kernel_size=3, activation=\"relu\")(x)\n",
        "x = layers.Conv2D(filters=128, kernel_size=3, activation=\"relu\")(x)\n",
        "x = layers.MaxPooling2D(pool_size=2)(x)\n",
        "\n",
        "x = layers.Conv2D(filters=256, kernel_size=3, activation=\"relu\")(x)\n",
        "x = layers.Conv2D(filters=256, kernel_size=3, activation=\"relu\")(x)\n",
        "x = layers.MaxPooling2D(pool_size=2)(x)\n",
        "\n",
        "x = layers.Flatten()(x) #Matrisi Vektör haline getirdik\n",
        "outputs = layers.Dense(1, activation=\"sigmoid\")(x) # Veri seti 2'li olduğu için\n",
        "# aktivasyon fonksiyonu olarak sigmoid seçtik\n",
        "\n",
        "model = keras.Model(inputs=inputs, outputs=outputs) #Girdi ve çıktı katmanlarını aktardık\n",
        "model.summary() "
      ],
      "metadata": {
        "colab": {
          "base_uri": "https://localhost:8080/"
        },
        "id": "09KWRpuMlmPt",
        "outputId": "00b43573-d335-4715-fd2d-d321250e273d"
      },
      "execution_count": null,
      "outputs": [
        {
          "output_type": "stream",
          "name": "stdout",
          "text": [
            "Model: \"model_2\"\n",
            "_________________________________________________________________\n",
            " Layer (type)                Output Shape              Param #   \n",
            "=================================================================\n",
            " input_3 (InputLayer)        [(None, 180, 180, 3)]     0         \n",
            "                                                                 \n",
            " rescaling_2 (Rescaling)     (None, 180, 180, 3)       0         \n",
            "                                                                 \n",
            " conv2d_16 (Conv2D)          (None, 178, 178, 32)      896       \n",
            "                                                                 \n",
            " conv2d_17 (Conv2D)          (None, 176, 176, 32)      9248      \n",
            "                                                                 \n",
            " max_pooling2d_8 (MaxPooling  (None, 88, 88, 32)       0         \n",
            " 2D)                                                             \n",
            "                                                                 \n",
            " conv2d_18 (Conv2D)          (None, 86, 86, 64)        18496     \n",
            "                                                                 \n",
            " conv2d_19 (Conv2D)          (None, 84, 84, 64)        36928     \n",
            "                                                                 \n",
            " max_pooling2d_9 (MaxPooling  (None, 42, 42, 64)       0         \n",
            " 2D)                                                             \n",
            "                                                                 \n",
            " conv2d_20 (Conv2D)          (None, 40, 40, 128)       73856     \n",
            "                                                                 \n",
            " conv2d_21 (Conv2D)          (None, 38, 38, 128)       147584    \n",
            "                                                                 \n",
            " max_pooling2d_10 (MaxPoolin  (None, 19, 19, 128)      0         \n",
            " g2D)                                                            \n",
            "                                                                 \n",
            " conv2d_22 (Conv2D)          (None, 17, 17, 256)       295168    \n",
            "                                                                 \n",
            " conv2d_23 (Conv2D)          (None, 15, 15, 256)       590080    \n",
            "                                                                 \n",
            " max_pooling2d_11 (MaxPoolin  (None, 7, 7, 256)        0         \n",
            " g2D)                                                            \n",
            "                                                                 \n",
            " flatten_2 (Flatten)         (None, 12544)             0         \n",
            "                                                                 \n",
            " dense_2 (Dense)             (None, 1)                 12545     \n",
            "                                                                 \n",
            "=================================================================\n",
            "Total params: 1,184,801\n",
            "Trainable params: 1,184,801\n",
            "Non-trainable params: 0\n",
            "_________________________________________________________________\n"
          ]
        }
      ]
    },
    {
      "cell_type": "code",
      "source": [
        "model.compile(loss=\"binary_crossentropy\", optimizer=\"adam\", \n",
        "              metrics=[\"accuracy\"]) # Modelin kayıp ve eğitim algoritmalarını belirledik"
      ],
      "metadata": {
        "id": "Ut4r6-w5vdPd"
      },
      "execution_count": null,
      "outputs": []
    },
    {
      "cell_type": "code",
      "source": [
        "from tensorflow.keras.utils import image_dataset_from_directory \n",
        "# Veri setlerini modelin girdi katmanındaki boyuta uygun olarak tanımladık\n",
        "train_dataset = image_dataset_from_directory(\"/content/drive/MyDrive/ColabNotebooks/dataset/bird_vs_drone/train\", \n",
        "                                             image_size=(180, 180), batch_size=32)\n",
        "validation_dataset = image_dataset_from_directory(\"/content/drive/MyDrive/ColabNotebooks/dataset/bird_vs_drone/validation\",\n",
        "                                                  image_size=(180, 180), batch_size=32)\n",
        "test_dataset = image_dataset_from_directory(\"/content/drive/MyDrive/ColabNotebooks/dataset/bird_vs_drone/test\", \n",
        "                                            image_size=(180, 180), batch_size=32)"
      ],
      "metadata": {
        "colab": {
          "base_uri": "https://localhost:8080/"
        },
        "id": "x_uaeKPGgun7",
        "outputId": "b4177491-6734-4533-caec-e5b87baa8c84"
      },
      "execution_count": null,
      "outputs": [
        {
          "output_type": "stream",
          "name": "stdout",
          "text": [
            "Found 646 files belonging to 2 classes.\n",
            "Found 90 files belonging to 2 classes.\n",
            "Found 194 files belonging to 2 classes.\n"
          ]
        }
      ]
    },
    {
      "cell_type": "code",
      "source": [
        "callbacks = [keras.callbacks.ModelCheckpoint( # Verilerin doğruluk\n",
        "    filepath=\"convnet_from_scratch.keras\",  # değerlerini .keras \n",
        "    save_best_only=True,                    # dosyasına kayıt ettik\n",
        "    monitor=\"val_loss\")\n",
        "]\n",
        "\n",
        "history = model.fit( # eğitim verisi ile \n",
        " train_dataset,      # doğrulama verisi karşılaştırdık\n",
        " epochs=30,          \n",
        " validation_data=validation_dataset,\n",
        " callbacks=callbacks)"
      ],
      "metadata": {
        "colab": {
          "base_uri": "https://localhost:8080/"
        },
        "id": "k7Np4rWAwN9r",
        "outputId": "b1d9ef93-cf55-4547-ea36-c1159496b1ae"
      },
      "execution_count": null,
      "outputs": [
        {
          "output_type": "stream",
          "name": "stdout",
          "text": [
            "Epoch 1/30\n",
            "21/21 [==============================] - 8s 210ms/step - loss: 0.6768 - accuracy: 0.5480 - val_loss: 0.6906 - val_accuracy: 0.5333\n",
            "Epoch 2/30\n",
            "21/21 [==============================] - 7s 207ms/step - loss: 0.6154 - accuracy: 0.6703 - val_loss: 0.5626 - val_accuracy: 0.7444\n",
            "Epoch 3/30\n",
            "21/21 [==============================] - 7s 203ms/step - loss: 0.4568 - accuracy: 0.7740 - val_loss: 0.4814 - val_accuracy: 0.7889\n",
            "Epoch 4/30\n",
            "21/21 [==============================] - 7s 209ms/step - loss: 0.4052 - accuracy: 0.8406 - val_loss: 0.6367 - val_accuracy: 0.6222\n",
            "Epoch 5/30\n",
            "21/21 [==============================] - 7s 207ms/step - loss: 0.4454 - accuracy: 0.7817 - val_loss: 0.5338 - val_accuracy: 0.7333\n",
            "Epoch 6/30\n",
            "21/21 [==============================] - 7s 205ms/step - loss: 0.3300 - accuracy: 0.8622 - val_loss: 0.6758 - val_accuracy: 0.6889\n",
            "Epoch 7/30\n",
            "21/21 [==============================] - 7s 200ms/step - loss: 0.2848 - accuracy: 0.8978 - val_loss: 0.5426 - val_accuracy: 0.7778\n",
            "Epoch 8/30\n",
            "21/21 [==============================] - 7s 207ms/step - loss: 0.2603 - accuracy: 0.8963 - val_loss: 0.6380 - val_accuracy: 0.7000\n",
            "Epoch 9/30\n",
            "21/21 [==============================] - 7s 205ms/step - loss: 0.2665 - accuracy: 0.8762 - val_loss: 0.5660 - val_accuracy: 0.7667\n",
            "Epoch 10/30\n",
            "21/21 [==============================] - 7s 201ms/step - loss: 0.2116 - accuracy: 0.9195 - val_loss: 0.5561 - val_accuracy: 0.7778\n",
            "Epoch 11/30\n",
            "21/21 [==============================] - 7s 205ms/step - loss: 0.1290 - accuracy: 0.9474 - val_loss: 0.6946 - val_accuracy: 0.7889\n",
            "Epoch 12/30\n",
            "21/21 [==============================] - 7s 201ms/step - loss: 0.1105 - accuracy: 0.9489 - val_loss: 0.7390 - val_accuracy: 0.7556\n",
            "Epoch 13/30\n",
            "21/21 [==============================] - 7s 204ms/step - loss: 0.0894 - accuracy: 0.9690 - val_loss: 0.7467 - val_accuracy: 0.7556\n",
            "Epoch 14/30\n",
            "21/21 [==============================] - 7s 198ms/step - loss: 0.0468 - accuracy: 0.9845 - val_loss: 1.1191 - val_accuracy: 0.7556\n",
            "Epoch 15/30\n",
            "21/21 [==============================] - 7s 205ms/step - loss: 0.0922 - accuracy: 0.9690 - val_loss: 0.8330 - val_accuracy: 0.7667\n",
            "Epoch 16/30\n",
            "21/21 [==============================] - 7s 204ms/step - loss: 0.1857 - accuracy: 0.9303 - val_loss: 0.7830 - val_accuracy: 0.7333\n",
            "Epoch 17/30\n",
            "21/21 [==============================] - 7s 203ms/step - loss: 0.0814 - accuracy: 0.9706 - val_loss: 0.9388 - val_accuracy: 0.7667\n",
            "Epoch 18/30\n",
            "21/21 [==============================] - 7s 204ms/step - loss: 0.0410 - accuracy: 0.9876 - val_loss: 1.1558 - val_accuracy: 0.7444\n",
            "Epoch 19/30\n",
            "21/21 [==============================] - 7s 201ms/step - loss: 0.0349 - accuracy: 0.9892 - val_loss: 1.2814 - val_accuracy: 0.7444\n",
            "Epoch 20/30\n",
            "21/21 [==============================] - 7s 203ms/step - loss: 0.0200 - accuracy: 0.9923 - val_loss: 1.6186 - val_accuracy: 0.7556\n",
            "Epoch 21/30\n",
            "21/21 [==============================] - 7s 203ms/step - loss: 0.1101 - accuracy: 0.9675 - val_loss: 1.1413 - val_accuracy: 0.7222\n",
            "Epoch 22/30\n",
            "21/21 [==============================] - 7s 201ms/step - loss: 0.0953 - accuracy: 0.9675 - val_loss: 0.8408 - val_accuracy: 0.7667\n",
            "Epoch 23/30\n",
            "21/21 [==============================] - 7s 202ms/step - loss: 0.0489 - accuracy: 0.9830 - val_loss: 1.2187 - val_accuracy: 0.7556\n",
            "Epoch 24/30\n",
            "21/21 [==============================] - 7s 203ms/step - loss: 0.0157 - accuracy: 0.9954 - val_loss: 1.5488 - val_accuracy: 0.7333\n",
            "Epoch 25/30\n",
            "21/21 [==============================] - 7s 203ms/step - loss: 0.0052 - accuracy: 1.0000 - val_loss: 1.6580 - val_accuracy: 0.7444\n",
            "Epoch 26/30\n",
            "21/21 [==============================] - 7s 205ms/step - loss: 0.0026 - accuracy: 1.0000 - val_loss: 1.9092 - val_accuracy: 0.7333\n",
            "Epoch 27/30\n",
            "21/21 [==============================] - 9s 280ms/step - loss: 0.0012 - accuracy: 1.0000 - val_loss: 1.9185 - val_accuracy: 0.7333\n",
            "Epoch 28/30\n",
            "21/21 [==============================] - 7s 200ms/step - loss: 5.9180e-04 - accuracy: 1.0000 - val_loss: 2.0049 - val_accuracy: 0.7222\n",
            "Epoch 29/30\n",
            "21/21 [==============================] - 7s 201ms/step - loss: 3.4362e-04 - accuracy: 1.0000 - val_loss: 2.0651 - val_accuracy: 0.7222\n",
            "Epoch 30/30\n",
            "21/21 [==============================] - 7s 201ms/step - loss: 2.2310e-04 - accuracy: 1.0000 - val_loss: 2.1176 - val_accuracy: 0.7222\n"
          ]
        }
      ]
    },
    {
      "cell_type": "code",
      "source": [
        "import matplotlib.pyplot as plt \n",
        "# Karşılaştırılan verileri grafikte karşılaştırdık\n",
        "accuracy = history.history[\"accuracy\"]\n",
        "val_accuracy = history.history[\"val_accuracy\"]\n",
        "loss = history.history[\"loss\"]\n",
        "val_loss = history.history[\"val_loss\"]\n",
        "epochs = range(1, len(accuracy) + 1)\n",
        "\n",
        "plt.plot(epochs, accuracy, \"bo\", label=\"Training accuracy\")\n",
        "plt.plot(epochs, val_accuracy, \"b\", label=\"Validation accuracy\")\n",
        "plt.title(\"Training and validation accuracy\")\n",
        "plt.legend()\n",
        "plt.figure()\n",
        "\n",
        "plt.plot(epochs, loss, \"bo\", label=\"Training loss\")\n",
        "plt.plot(epochs, val_loss, \"b\", label=\"Validation loss\")\n",
        "plt.title(\"Training and validation loss\")\n",
        "plt.legend()\n",
        "\n",
        "plt.show()"
      ],
      "metadata": {
        "id": "Ottec29Swi4o",
        "colab": {
          "base_uri": "https://localhost:8080/",
          "height": 545
        },
        "outputId": "06e05e6e-6a91-452d-d16d-6b045ddf0330"
      },
      "execution_count": null,
      "outputs": [
        {
          "output_type": "display_data",
          "data": {
            "text/plain": [
              "<Figure size 432x288 with 1 Axes>"
            ],
            "image/png": "[encoded data removed]"
          },
          "metadata": {
            "needs_background": "light"
          }
        },
        {
          "output_type": "display_data",
          "data": {
            "text/plain": [
              "<Figure size 432x288 with 1 Axes>"
            ],
            "image/png": "[encoded data removed]"
          },
          "metadata": {
            "needs_background": "light"
          }
        }
      ]
    },
    {
      "cell_type": "code",
      "source": [
        "test_model = keras.models.load_model(\"convnet_from_scratch.keras\") #test verilerinin doğruluk\n",
        "test_loss, test_acc = test_model.evaluate(test_dataset)            # oranını hesapladık\n",
        "print(f\"Test accuracy: {test_acc:.3f}\")"
      ],
      "metadata": {
        "id": "MB3zeoZlwow5",
        "colab": {
          "base_uri": "https://localhost:8080/"
        },
        "outputId": "65f70027-69f1-43f5-a604-c8e69eef38dc"
      },
      "execution_count": null,
      "outputs": [
        {
          "output_type": "stream",
          "name": "stdout",
          "text": [
            "7/7 [==============================] - 1s 34ms/step - loss: 0.7420 - accuracy: 0.6082\n",
            "Test accuracy: 0.608\n"
          ]
        }
      ]
    },
    {
      "cell_type": "code",
      "source": [
        "data_augmentation = keras.Sequential([layers.RandomFlip(\"horizontal\"), layers.RandomRotation(0.1), \n",
        "                                      layers.RandomZoom(0.2),]) # Veriyi sayısını artırmak için data augmentationu kullandık"
      ],
      "metadata": {
        "id": "wqoMl_pel6NR"
      },
      "execution_count": null,
      "outputs": []
    },
    {
      "cell_type": "code",
      "source": [
        "inputs = keras.Input(shape=(180, 180, 3))\n",
        "x = data_augmentation(inputs)    # Yeni verileri modele ilettik \n",
        "x = layers.Rescaling(1./255)(x)\n",
        "\n",
        "x = layers.Conv2D(filters=32, kernel_size=(3, 3), activation=\"relu\")(x)\n",
        "x = layers.Conv2D(filters=32, kernel_size=(3, 3), activation=\"relu\")(x)\n",
        "x = layers.MaxPooling2D(pool_size=2)(x)\n",
        "\n",
        "x = layers.Conv2D(filters=64, kernel_size=(3, 3), activation=\"relu\")(x)\n",
        "x = layers.Conv2D(filters=64, kernel_size=(3, 3), activation=\"relu\")(x)\n",
        "x = layers.MaxPooling2D(pool_size=2)(x)\n",
        "\n",
        "x = layers.Conv2D(filters=128, kernel_size=(3, 3), activation=\"relu\")(x)\n",
        "x = layers.Conv2D(filters=128, kernel_size=(3, 3), activation=\"relu\")(x)\n",
        "x = layers.MaxPooling2D(pool_size=2)(x)\n",
        "\n",
        "x = layers.Conv2D(filters=256, kernel_size=(3, 3), activation=\"relu\")(x)\n",
        "x = layers.Conv2D(filters=256, kernel_size=(3, 3), activation=\"relu\")(x)\n",
        "x = layers.MaxPooling2D(pool_size=2)(x)\n",
        "\n",
        "x = layers.Flatten()(x)\n",
        "x = layers.Dropout(0.5)(x)   # overfitting olmaması için drop out kullandık\n",
        "\n",
        "outputs = layers.Dense(1, activation=\"sigmoid\")(x)\n",
        "model = keras.Model(inputs=inputs, outputs=outputs)\n",
        "model.compile(loss=\"binary_crossentropy\", optimizer=\"rmsprop\", metrics=[\"accuracy\"])"
      ],
      "metadata": {
        "id": "rd0FpNCtmEtJ"
      },
      "execution_count": null,
      "outputs": []
    },
    {
      "cell_type": "code",
      "source": [
        "callbacks = [\n",
        " keras.callbacks.ModelCheckpoint(\n",
        " filepath=\"convnet_from_scratch_with_augmentation.keras\",\n",
        " save_best_only=True,\n",
        " monitor=\"val_loss\")\n",
        "] \n",
        "  # Data augmention ile gelen yeni veriler ile eğitimi tekrarladık\n",
        "history = model.fit(train_dataset, epochs=100, validation_data=validation_dataset, callbacks=callbacks) "
      ],
      "metadata": {
        "colab": {
          "base_uri": "https://localhost:8080/"
        },
        "id": "Xg7Vf--5mNVu",
        "outputId": "23aebe13-7dd6-4fd5-cfdf-1017cca42c6f"
      },
      "execution_count": null,
      "outputs": [
        {
          "output_type": "stream",
          "name": "stdout",
          "text": [
            "Epoch 1/100\n",
            "21/21 [==============================] - 9s 222ms/step - loss: 0.8599 - accuracy: 0.4845 - val_loss: 0.6938 - val_accuracy: 0.4667\n",
            "Epoch 2/100\n",
            "21/21 [==============================] - 7s 201ms/step - loss: 0.6905 - accuracy: 0.5031 - val_loss: 0.7898 - val_accuracy: 0.5333\n",
            "Epoch 3/100\n",
            "21/21 [==============================] - 7s 210ms/step - loss: 0.7024 - accuracy: 0.5495 - val_loss: 0.6924 - val_accuracy: 0.5333\n",
            "Epoch 4/100\n",
            "21/21 [==============================] - 7s 212ms/step - loss: 0.6760 - accuracy: 0.5588 - val_loss: 0.6335 - val_accuracy: 0.5333\n",
            "Epoch 5/100\n",
            "21/21 [==============================] - 7s 208ms/step - loss: 0.6986 - accuracy: 0.5418 - val_loss: 0.6797 - val_accuracy: 0.5111\n",
            "Epoch 6/100\n",
            "21/21 [==============================] - 7s 205ms/step - loss: 0.6818 - accuracy: 0.5557 - val_loss: 0.6855 - val_accuracy: 0.5556\n",
            "Epoch 7/100\n",
            "21/21 [==============================] - 7s 209ms/step - loss: 0.7055 - accuracy: 0.6006 - val_loss: 0.6679 - val_accuracy: 0.5889\n",
            "Epoch 8/100\n",
            "21/21 [==============================] - 7s 216ms/step - loss: 0.6239 - accuracy: 0.6749 - val_loss: 0.7566 - val_accuracy: 0.6556\n",
            "Epoch 9/100\n",
            "21/21 [==============================] - 10s 257ms/step - loss: 0.6862 - accuracy: 0.6873 - val_loss: 0.7687 - val_accuracy: 0.5333\n",
            "Epoch 10/100\n",
            "21/21 [==============================] - 7s 209ms/step - loss: 0.5835 - accuracy: 0.7245 - val_loss: 0.6998 - val_accuracy: 0.6333\n",
            "Epoch 11/100\n",
            "21/21 [==============================] - 7s 206ms/step - loss: 0.5413 - accuracy: 0.7446 - val_loss: 0.5334 - val_accuracy: 0.7444\n",
            "Epoch 12/100\n",
            "21/21 [==============================] - 9s 268ms/step - loss: 0.5831 - accuracy: 0.7399 - val_loss: 0.5332 - val_accuracy: 0.7222\n",
            "Epoch 13/100\n",
            "21/21 [==============================] - 9s 256ms/step - loss: 0.5396 - accuracy: 0.7632 - val_loss: 0.6304 - val_accuracy: 0.7444\n",
            "Epoch 14/100\n",
            "21/21 [==============================] - 9s 222ms/step - loss: 0.4792 - accuracy: 0.7895 - val_loss: 0.6701 - val_accuracy: 0.7000\n",
            "Epoch 15/100\n",
            "21/21 [==============================] - 7s 205ms/step - loss: 0.5545 - accuracy: 0.7539 - val_loss: 0.6767 - val_accuracy: 0.6778\n",
            "Epoch 16/100\n",
            "21/21 [==============================] - 7s 206ms/step - loss: 0.4583 - accuracy: 0.7833 - val_loss: 0.6582 - val_accuracy: 0.5778\n",
            "Epoch 17/100\n",
            "21/21 [==============================] - 7s 211ms/step - loss: 0.4495 - accuracy: 0.8003 - val_loss: 0.5929 - val_accuracy: 0.7444\n",
            "Epoch 18/100\n",
            "21/21 [==============================] - 9s 278ms/step - loss: 0.4509 - accuracy: 0.7941 - val_loss: 0.5067 - val_accuracy: 0.8000\n",
            "Epoch 19/100\n",
            "21/21 [==============================] - 9s 226ms/step - loss: 0.4192 - accuracy: 0.8065 - val_loss: 0.6670 - val_accuracy: 0.7444\n",
            "Epoch 20/100\n",
            "21/21 [==============================] - 7s 208ms/step - loss: 0.4386 - accuracy: 0.8266 - val_loss: 0.5951 - val_accuracy: 0.7667\n",
            "Epoch 21/100\n",
            "21/21 [==============================] - 8s 206ms/step - loss: 0.4159 - accuracy: 0.8251 - val_loss: 0.5078 - val_accuracy: 0.7667\n",
            "Epoch 22/100\n",
            "21/21 [==============================] - 7s 206ms/step - loss: 0.3691 - accuracy: 0.8406 - val_loss: 0.5159 - val_accuracy: 0.7333\n",
            "Epoch 23/100\n",
            "21/21 [==============================] - 8s 244ms/step - loss: 0.3514 - accuracy: 0.8514 - val_loss: 0.7223 - val_accuracy: 0.7667\n",
            "Epoch 24/100\n",
            "21/21 [==============================] - 8s 237ms/step - loss: 0.3565 - accuracy: 0.8607 - val_loss: 0.5659 - val_accuracy: 0.7667\n",
            "Epoch 25/100\n",
            "21/21 [==============================] - 7s 209ms/step - loss: 0.3691 - accuracy: 0.8421 - val_loss: 0.4941 - val_accuracy: 0.7778\n",
            "Epoch 26/100\n",
            "21/21 [==============================] - 7s 208ms/step - loss: 0.3727 - accuracy: 0.8421 - val_loss: 0.5411 - val_accuracy: 0.6556\n",
            "Epoch 27/100\n",
            "21/21 [==============================] - 7s 208ms/step - loss: 0.2965 - accuracy: 0.8762 - val_loss: 0.9817 - val_accuracy: 0.6000\n",
            "Epoch 28/100\n",
            "21/21 [==============================] - 7s 216ms/step - loss: 0.3518 - accuracy: 0.8607 - val_loss: 0.6150 - val_accuracy: 0.7556\n",
            "Epoch 29/100\n",
            "21/21 [==============================] - 7s 215ms/step - loss: 0.3388 - accuracy: 0.8653 - val_loss: 0.5272 - val_accuracy: 0.8111\n",
            "Epoch 30/100\n",
            "21/21 [==============================] - 8s 216ms/step - loss: 0.2900 - accuracy: 0.8901 - val_loss: 0.7567 - val_accuracy: 0.7222\n",
            "Epoch 31/100\n",
            "21/21 [==============================] - 9s 247ms/step - loss: 0.3108 - accuracy: 0.8669 - val_loss: 0.4276 - val_accuracy: 0.8111\n",
            "Epoch 32/100\n",
            "21/21 [==============================] - 8s 234ms/step - loss: 0.2953 - accuracy: 0.8824 - val_loss: 1.1628 - val_accuracy: 0.7222\n",
            "Epoch 33/100\n",
            "21/21 [==============================] - 7s 209ms/step - loss: 0.2797 - accuracy: 0.8854 - val_loss: 0.6061 - val_accuracy: 0.8222\n",
            "Epoch 34/100\n",
            "21/21 [==============================] - 8s 238ms/step - loss: 0.4083 - accuracy: 0.8622 - val_loss: 0.5397 - val_accuracy: 0.7667\n",
            "Epoch 35/100\n",
            "21/21 [==============================] - 10s 295ms/step - loss: 0.2619 - accuracy: 0.8885 - val_loss: 0.9168 - val_accuracy: 0.6667\n",
            "Epoch 36/100\n",
            "21/21 [==============================] - 8s 226ms/step - loss: 0.2898 - accuracy: 0.8762 - val_loss: 0.8379 - val_accuracy: 0.7000\n",
            "Epoch 37/100\n",
            "21/21 [==============================] - 8s 216ms/step - loss: 0.2558 - accuracy: 0.8978 - val_loss: 0.7146 - val_accuracy: 0.7444\n",
            "Epoch 38/100\n",
            "21/21 [==============================] - 8s 225ms/step - loss: 0.2854 - accuracy: 0.8808 - val_loss: 0.5049 - val_accuracy: 0.8222\n",
            "Epoch 39/100\n",
            "21/21 [==============================] - 8s 228ms/step - loss: 0.3167 - accuracy: 0.8793 - val_loss: 0.4425 - val_accuracy: 0.7667\n",
            "Epoch 40/100\n",
            "21/21 [==============================] - 8s 229ms/step - loss: 0.2436 - accuracy: 0.9102 - val_loss: 0.5994 - val_accuracy: 0.7889\n",
            "Epoch 41/100\n",
            "21/21 [==============================] - 8s 206ms/step - loss: 0.2610 - accuracy: 0.8947 - val_loss: 0.8250 - val_accuracy: 0.6556\n",
            "Epoch 42/100\n",
            "21/21 [==============================] - 8s 207ms/step - loss: 0.2620 - accuracy: 0.8963 - val_loss: 1.0312 - val_accuracy: 0.6889\n",
            "Epoch 43/100\n",
            "21/21 [==============================] - 8s 237ms/step - loss: 0.2432 - accuracy: 0.9164 - val_loss: 0.6655 - val_accuracy: 0.7444\n",
            "Epoch 44/100\n",
            "21/21 [==============================] - 7s 208ms/step - loss: 0.2552 - accuracy: 0.9071 - val_loss: 0.6480 - val_accuracy: 0.8222\n",
            "Epoch 45/100\n",
            "21/21 [==============================] - 7s 204ms/step - loss: 0.2585 - accuracy: 0.9102 - val_loss: 0.4536 - val_accuracy: 0.7778\n",
            "Epoch 46/100\n",
            "21/21 [==============================] - 8s 227ms/step - loss: 0.1960 - accuracy: 0.9180 - val_loss: 0.7526 - val_accuracy: 0.7556\n",
            "Epoch 47/100\n",
            "21/21 [==============================] - 9s 235ms/step - loss: 0.2543 - accuracy: 0.9040 - val_loss: 0.7784 - val_accuracy: 0.7333\n",
            "Epoch 48/100\n",
            "21/21 [==============================] - 8s 243ms/step - loss: 0.2043 - accuracy: 0.9195 - val_loss: 0.5959 - val_accuracy: 0.7889\n",
            "Epoch 49/100\n",
            "21/21 [==============================] - 8s 225ms/step - loss: 0.2096 - accuracy: 0.9164 - val_loss: 1.2758 - val_accuracy: 0.6556\n",
            "Epoch 50/100\n",
            "21/21 [==============================] - 8s 225ms/step - loss: 0.2586 - accuracy: 0.9133 - val_loss: 0.6071 - val_accuracy: 0.8333\n",
            "Epoch 51/100\n",
            "21/21 [==============================] - 8s 208ms/step - loss: 0.2143 - accuracy: 0.9118 - val_loss: 0.7063 - val_accuracy: 0.7889\n",
            "Epoch 52/100\n",
            "21/21 [==============================] - 7s 209ms/step - loss: 0.1738 - accuracy: 0.9412 - val_loss: 1.3348 - val_accuracy: 0.7333\n",
            "Epoch 53/100\n",
            "21/21 [==============================] - 8s 213ms/step - loss: 0.2669 - accuracy: 0.9071 - val_loss: 0.7349 - val_accuracy: 0.7222\n",
            "Epoch 54/100\n",
            "21/21 [==============================] - 7s 209ms/step - loss: 0.1513 - accuracy: 0.9458 - val_loss: 0.7070 - val_accuracy: 0.7778\n",
            "Epoch 55/100\n",
            "21/21 [==============================] - 7s 210ms/step - loss: 0.1872 - accuracy: 0.9319 - val_loss: 0.6087 - val_accuracy: 0.8222\n",
            "Epoch 56/100\n",
            "21/21 [==============================] - 9s 242ms/step - loss: 0.2153 - accuracy: 0.9241 - val_loss: 0.8119 - val_accuracy: 0.7778\n",
            "Epoch 57/100\n",
            "21/21 [==============================] - 9s 244ms/step - loss: 0.3126 - accuracy: 0.9211 - val_loss: 0.9217 - val_accuracy: 0.7222\n",
            "Epoch 58/100\n",
            "21/21 [==============================] - 7s 211ms/step - loss: 0.1708 - accuracy: 0.9396 - val_loss: 0.5785 - val_accuracy: 0.8000\n",
            "Epoch 59/100\n",
            "21/21 [==============================] - 7s 208ms/step - loss: 0.2089 - accuracy: 0.9241 - val_loss: 1.3792 - val_accuracy: 0.6222\n",
            "Epoch 60/100\n",
            "21/21 [==============================] - 7s 212ms/step - loss: 0.2400 - accuracy: 0.9195 - val_loss: 0.8973 - val_accuracy: 0.6889\n",
            "Epoch 61/100\n",
            "21/21 [==============================] - 7s 208ms/step - loss: 0.1846 - accuracy: 0.9303 - val_loss: 0.6059 - val_accuracy: 0.8000\n",
            "Epoch 62/100\n",
            "21/21 [==============================] - 8s 267ms/step - loss: 0.1697 - accuracy: 0.9365 - val_loss: 0.8888 - val_accuracy: 0.7333\n",
            "Epoch 63/100\n",
            "21/21 [==============================] - 8s 205ms/step - loss: 0.2033 - accuracy: 0.9133 - val_loss: 0.9273 - val_accuracy: 0.8000\n",
            "Epoch 64/100\n",
            "21/21 [==============================] - 7s 207ms/step - loss: 0.2479 - accuracy: 0.9211 - val_loss: 1.0316 - val_accuracy: 0.7222\n",
            "Epoch 65/100\n",
            "21/21 [==============================] - 7s 207ms/step - loss: 0.1575 - accuracy: 0.9427 - val_loss: 3.4992 - val_accuracy: 0.6889\n",
            "Epoch 66/100\n",
            "21/21 [==============================] - 7s 208ms/step - loss: 0.3993 - accuracy: 0.9319 - val_loss: 0.7203 - val_accuracy: 0.7778\n",
            "Epoch 67/100\n",
            "21/21 [==============================] - 8s 226ms/step - loss: 0.1609 - accuracy: 0.9396 - val_loss: 0.9823 - val_accuracy: 0.8000\n",
            "Epoch 68/100\n",
            "21/21 [==============================] - 9s 253ms/step - loss: 0.1509 - accuracy: 0.9489 - val_loss: 0.6040 - val_accuracy: 0.8111\n",
            "Epoch 69/100\n",
            "21/21 [==============================] - 9s 201ms/step - loss: 0.2048 - accuracy: 0.9458 - val_loss: 0.9551 - val_accuracy: 0.7778\n",
            "Epoch 70/100\n",
            "21/21 [==============================] - 8s 243ms/step - loss: 0.2348 - accuracy: 0.9226 - val_loss: 0.7751 - val_accuracy: 0.7444\n",
            "Epoch 71/100\n",
            "21/21 [==============================] - 8s 224ms/step - loss: 0.1602 - accuracy: 0.9412 - val_loss: 0.7876 - val_accuracy: 0.7333\n",
            "Epoch 72/100\n",
            "21/21 [==============================] - 8s 258ms/step - loss: 0.2213 - accuracy: 0.9226 - val_loss: 0.9382 - val_accuracy: 0.7667\n",
            "Epoch 73/100\n",
            "21/21 [==============================] - 9s 245ms/step - loss: 0.1893 - accuracy: 0.9350 - val_loss: 1.9625 - val_accuracy: 0.6556\n",
            "Epoch 74/100\n",
            "21/21 [==============================] - 9s 247ms/step - loss: 0.2041 - accuracy: 0.9334 - val_loss: 0.8077 - val_accuracy: 0.8333\n",
            "Epoch 75/100\n",
            "21/21 [==============================] - 8s 238ms/step - loss: 0.2255 - accuracy: 0.9257 - val_loss: 0.6357 - val_accuracy: 0.8111\n",
            "Epoch 76/100\n",
            "21/21 [==============================] - 9s 259ms/step - loss: 0.2007 - accuracy: 0.9319 - val_loss: 0.6905 - val_accuracy: 0.8000\n",
            "Epoch 77/100\n",
            "21/21 [==============================] - 7s 209ms/step - loss: 0.1246 - accuracy: 0.9582 - val_loss: 1.3329 - val_accuracy: 0.7556\n",
            "Epoch 78/100\n",
            "21/21 [==============================] - 9s 268ms/step - loss: 0.2671 - accuracy: 0.9180 - val_loss: 0.6918 - val_accuracy: 0.8000\n",
            "Epoch 79/100\n",
            "21/21 [==============================] - 8s 217ms/step - loss: 0.1652 - accuracy: 0.9365 - val_loss: 0.7038 - val_accuracy: 0.8000\n",
            "Epoch 80/100\n",
            "21/21 [==============================] - 7s 209ms/step - loss: 0.1877 - accuracy: 0.9489 - val_loss: 0.8280 - val_accuracy: 0.7778\n",
            "Epoch 81/100\n",
            "21/21 [==============================] - 7s 206ms/step - loss: 0.1374 - accuracy: 0.9458 - val_loss: 0.7800 - val_accuracy: 0.8222\n",
            "Epoch 82/100\n",
            "21/21 [==============================] - 7s 208ms/step - loss: 0.1849 - accuracy: 0.9551 - val_loss: 0.8213 - val_accuracy: 0.8333\n",
            "Epoch 83/100\n",
            "21/21 [==============================] - 7s 212ms/step - loss: 0.1083 - accuracy: 0.9659 - val_loss: 0.9607 - val_accuracy: 0.8000\n",
            "Epoch 84/100\n",
            "21/21 [==============================] - 7s 207ms/step - loss: 0.1640 - accuracy: 0.9551 - val_loss: 1.0951 - val_accuracy: 0.8333\n",
            "Epoch 85/100\n",
            "21/21 [==============================] - 7s 207ms/step - loss: 0.1898 - accuracy: 0.9489 - val_loss: 0.8750 - val_accuracy: 0.8222\n",
            "Epoch 86/100\n",
            "21/21 [==============================] - 7s 209ms/step - loss: 0.1757 - accuracy: 0.9396 - val_loss: 0.7284 - val_accuracy: 0.8000\n",
            "Epoch 87/100\n",
            "21/21 [==============================] - 7s 213ms/step - loss: 0.1083 - accuracy: 0.9659 - val_loss: 1.0671 - val_accuracy: 0.7667\n",
            "Epoch 88/100\n",
            "21/21 [==============================] - 7s 204ms/step - loss: 0.1037 - accuracy: 0.9551 - val_loss: 1.2766 - val_accuracy: 0.7889\n",
            "Epoch 89/100\n",
            "21/21 [==============================] - 7s 213ms/step - loss: 0.2904 - accuracy: 0.9272 - val_loss: 0.7873 - val_accuracy: 0.7889\n",
            "Epoch 90/100\n",
            "21/21 [==============================] - 7s 208ms/step - loss: 0.1964 - accuracy: 0.9520 - val_loss: 1.5829 - val_accuracy: 0.7778\n",
            "Epoch 91/100\n",
            "21/21 [==============================] - 7s 210ms/step - loss: 0.1123 - accuracy: 0.9659 - val_loss: 0.8181 - val_accuracy: 0.8000\n",
            "Epoch 92/100\n",
            "21/21 [==============================] - 7s 207ms/step - loss: 0.1201 - accuracy: 0.9598 - val_loss: 1.4053 - val_accuracy: 0.8111\n",
            "Epoch 93/100\n",
            "21/21 [==============================] - 7s 208ms/step - loss: 0.1251 - accuracy: 0.9505 - val_loss: 0.9466 - val_accuracy: 0.7889\n",
            "Epoch 94/100\n",
            "21/21 [==============================] - 7s 207ms/step - loss: 0.3426 - accuracy: 0.9040 - val_loss: 0.6457 - val_accuracy: 0.8000\n",
            "Epoch 95/100\n",
            "21/21 [==============================] - 7s 208ms/step - loss: 0.1120 - accuracy: 0.9675 - val_loss: 1.0221 - val_accuracy: 0.8222\n",
            "Epoch 96/100\n",
            "21/21 [==============================] - 7s 206ms/step - loss: 0.1205 - accuracy: 0.9567 - val_loss: 1.0498 - val_accuracy: 0.8000\n",
            "Epoch 97/100\n",
            "21/21 [==============================] - 7s 211ms/step - loss: 0.1208 - accuracy: 0.9644 - val_loss: 1.1335 - val_accuracy: 0.7778\n",
            "Epoch 98/100\n",
            "21/21 [==============================] - 7s 205ms/step - loss: 0.1011 - accuracy: 0.9675 - val_loss: 0.9778 - val_accuracy: 0.8000\n",
            "Epoch 99/100\n",
            "21/21 [==============================] - 7s 209ms/step - loss: 0.4018 - accuracy: 0.9334 - val_loss: 0.7950 - val_accuracy: 0.8000\n",
            "Epoch 100/100\n",
            "21/21 [==============================] - 7s 200ms/step - loss: 0.0729 - accuracy: 0.9690 - val_loss: 0.8272 - val_accuracy: 0.8556\n"
          ]
        }
      ]
    },
    {
      "cell_type": "code",
      "source": [
        "accuracy = history.history[\"accuracy\"]\n",
        "val_accuracy = history.history[\"val_accuracy\"]\n",
        "loss = history.history[\"loss\"]\n",
        "val_loss = history.history[\"val_loss\"]\n",
        "epochs = range(1, len(accuracy) + 1)\n",
        "\n",
        "plt.plot(epochs, accuracy, \"bo\", label=\"Training accuracy\")\n",
        "plt.plot(epochs, val_accuracy, \"b\", label=\"Validation accuracy\")\n",
        "plt.title(\"Training and Validation Accuracy\")\n",
        "plt.legend()\n",
        "plt.figure()\n",
        "\n",
        "plt.plot(epochs, loss, \"bo\", label=\"Training loss\")\n",
        "plt.plot(epochs, val_loss, \"b\", label=\"Validation loss\")\n",
        "plt.title(\"Training and Validation Loss\")\n",
        "plt.legend()\n",
        " # Çıkan sonucu karşılaştırmak için grafikte gösterdik\n",
        "plt.show()"
      ],
      "metadata": {
        "colab": {
          "base_uri": "https://localhost:8080/",
          "height": 545
        },
        "id": "3jPFzvs97wDG",
        "outputId": "a0fa5eec-56e9-4c4f-a6cc-52f1863179e2"
      },
      "execution_count": null,
      "outputs": [
        {
          "output_type": "display_data",
          "data": {
            "text/plain": [
              "<Figure size 432x288 with 1 Axes>"
            ],
            "image/png": "[encoded data removed]"
          },
          "metadata": {
            "needs_background": "light"
          }
        },
        {
          "output_type": "display_data",
          "data": {
            "text/plain": [
              "<Figure size 432x288 with 1 Axes>"
            ],
            "image/png": "[encoded data removed]"
          },
          "metadata": {
            "needs_background": "light"
          }
        }
      ]
    },
    {
      "cell_type": "code",
      "source": [
        "test_model = keras.models.load_model(\"convnet_from_scratch_with_augmentation.keras\")\n",
        "test_loss, test_acc = test_model.evaluate(test_dataset)\n",
        "print(f\"Test accuracy: {test_acc:.3f}\") # Eğitim sonucunda çıkan doğruluk değerini gösterdik"
      ],
      "metadata": {
        "colab": {
          "base_uri": "https://localhost:8080/"
        },
        "id": "_FKMmOmJ_U9D",
        "outputId": "78df6291-3463-4391-b390-a9d481f03fe4"
      },
      "execution_count": null,
      "outputs": [
        {
          "output_type": "stream",
          "name": "stdout",
          "text": [
            "7/7 [==============================] - 1s 34ms/step - loss: 0.7623 - accuracy: 0.6546\n",
            "Test accuracy: 0.655\n"
          ]
        }
      ]
    }
  ]
}